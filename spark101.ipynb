{
 "cells": [
  {
   "cell_type": "markdown",
   "metadata": {},
   "source": [
    "Create a jupyter notebook or python script named spark101 for this exercise."
   ]
  },
  {
   "cell_type": "code",
   "execution_count": 1,
   "metadata": {},
   "outputs": [],
   "source": [
    "import pyspark\n",
    "import pandas as pd\n",
    "import numpy as np\n",
    "\n",
    "\n",
    "\n",
    "from pyspark.sql.functions import col, expr, concat, sum, avg, min, max, count, mean, round \n",
    "from pyspark.sql.functions import lit, regexp_extract, regexp_replace, when, asc, desc, month, year, quarter\n",
    "pd.set_option('display.max_colwidth', 10000)\n",
    "\n",
    "spark = pyspark.sql.SparkSession.builder.getOrCreate()"
   ]
  },
  {
   "cell_type": "markdown",
   "metadata": {},
   "source": [
    "Create a spark data frame that contains your favorite programming languages.\n",
    "\n",
    "- The name of the column should be language"
   ]
  },
  {
   "cell_type": "code",
   "execution_count": 2,
   "metadata": {},
   "outputs": [
    {
     "data": {
      "text/html": [
       "<div>\n",
       "<style scoped>\n",
       "    .dataframe tbody tr th:only-of-type {\n",
       "        vertical-align: middle;\n",
       "    }\n",
       "\n",
       "    .dataframe tbody tr th {\n",
       "        vertical-align: top;\n",
       "    }\n",
       "\n",
       "    .dataframe thead th {\n",
       "        text-align: right;\n",
       "    }\n",
       "</style>\n",
       "<table border=\"1\" class=\"dataframe\">\n",
       "  <thead>\n",
       "    <tr style=\"text-align: right;\">\n",
       "      <th></th>\n",
       "      <th>python</th>\n",
       "      <th>javascript</th>\n",
       "      <th>c#</th>\n",
       "      <th>java</th>\n",
       "      <th>css</th>\n",
       "      <th>html</th>\n",
       "    </tr>\n",
       "  </thead>\n",
       "  <tbody>\n",
       "    <tr>\n",
       "      <th>csv</th>\n",
       "      <td>yes</td>\n",
       "      <td>no</td>\n",
       "      <td>yes</td>\n",
       "      <td>no</td>\n",
       "      <td>no</td>\n",
       "      <td>yes</td>\n",
       "    </tr>\n",
       "    <tr>\n",
       "      <th>json</th>\n",
       "      <td>yes</td>\n",
       "      <td>no</td>\n",
       "      <td>yes</td>\n",
       "      <td>yes</td>\n",
       "      <td>no</td>\n",
       "      <td>yes</td>\n",
       "    </tr>\n",
       "  </tbody>\n",
       "</table>\n",
       "</div>"
      ],
      "text/plain": [
       "     python javascript   c# java css html\n",
       "csv     yes         no  yes   no  no  yes\n",
       "json    yes         no  yes  yes  no  yes"
      ]
     },
     "execution_count": 2,
     "metadata": {},
     "output_type": "execute_result"
    }
   ],
   "source": [
    "# Create Dataframe\n",
    "lang_df = pd.DataFrame([['yes', 'no', 'yes', 'no', 'no', 'yes'], \n",
    "                        ['yes', 'no', 'yes', 'yes', 'no', 'yes'],\n",
    "                       ], \n",
    "                        index = ['csv', 'json'], \n",
    "                        columns = ['python', 'javascript', 'c#', 'java', 'css', 'html'])\n",
    "lang_df"
   ]
  },
  {
   "cell_type": "code",
   "execution_count": 3,
   "metadata": {},
   "outputs": [
    {
     "name": "stdout",
     "output_type": "stream",
     "text": [
      "+------+----------+---+----+---+----+\n",
      "|python|javascript| c#|java|css|html|\n",
      "+------+----------+---+----+---+----+\n",
      "|   yes|        no|yes|  no| no| yes|\n",
      "|   yes|        no|yes| yes| no| yes|\n",
      "+------+----------+---+----+---+----+\n",
      "\n"
     ]
    }
   ],
   "source": [
    "# Convert to spark\n",
    "df = spark.createDataFrame(lang_df)\n",
    "df.show()"
   ]
  },
  {
   "cell_type": "markdown",
   "metadata": {},
   "source": [
    "- View the schema of the dataframe"
   ]
  },
  {
   "cell_type": "code",
   "execution_count": 4,
   "metadata": {},
   "outputs": [
    {
     "name": "stdout",
     "output_type": "stream",
     "text": [
      "root\n",
      " |-- python: string (nullable = true)\n",
      " |-- javascript: string (nullable = true)\n",
      " |-- c#: string (nullable = true)\n",
      " |-- java: string (nullable = true)\n",
      " |-- css: string (nullable = true)\n",
      " |-- html: string (nullable = true)\n",
      "\n"
     ]
    }
   ],
   "source": [
    "df.printSchema()"
   ]
  },
  {
   "cell_type": "markdown",
   "metadata": {},
   "source": [
    "- Output the shape of the dataframe"
   ]
  },
  {
   "cell_type": "code",
   "execution_count": 5,
   "metadata": {},
   "outputs": [
    {
     "name": "stdout",
     "output_type": "stream",
     "text": [
      "(2, 6)\n"
     ]
    }
   ],
   "source": [
    "print((df.count(), len(df.columns)))"
   ]
  },
  {
   "cell_type": "markdown",
   "metadata": {},
   "source": [
    "- Show the first 5 records in the dataframe"
   ]
  },
  {
   "cell_type": "code",
   "execution_count": 6,
   "metadata": {},
   "outputs": [
    {
     "name": "stdout",
     "output_type": "stream",
     "text": [
      "+------+----------+---+----+---+----+\n",
      "|python|javascript| c#|java|css|html|\n",
      "+------+----------+---+----+---+----+\n",
      "|   yes|        no|yes|  no| no| yes|\n",
      "|   yes|        no|yes| yes| no| yes|\n",
      "+------+----------+---+----+---+----+\n",
      "\n"
     ]
    }
   ],
   "source": [
    "df.show(5)"
   ]
  },
  {
   "cell_type": "markdown",
   "metadata": {},
   "source": [
    "Load the mpg dataset as a spark dataframe."
   ]
  },
  {
   "cell_type": "code",
   "execution_count": 7,
   "metadata": {},
   "outputs": [
    {
     "name": "stdout",
     "output_type": "stream",
     "text": [
      "+------------+-----+-----+----+---+----------+---+---+---+---+-------+\n",
      "|manufacturer|model|displ|year|cyl|     trans|drv|cty|hwy| fl|  class|\n",
      "+------------+-----+-----+----+---+----------+---+---+---+---+-------+\n",
      "|        audi|   a4|  1.8|1999|  4|  auto(l5)|  f| 18| 29|  p|compact|\n",
      "|        audi|   a4|  1.8|1999|  4|manual(m5)|  f| 21| 29|  p|compact|\n",
      "|        audi|   a4|  2.0|2008|  4|manual(m6)|  f| 20| 31|  p|compact|\n",
      "|        audi|   a4|  2.0|2008|  4|  auto(av)|  f| 21| 30|  p|compact|\n",
      "|        audi|   a4|  2.8|1999|  6|  auto(l5)|  f| 16| 26|  p|compact|\n",
      "+------------+-----+-----+----+---+----------+---+---+---+---+-------+\n",
      "only showing top 5 rows\n",
      "\n"
     ]
    }
   ],
   "source": [
    "from pydataset import data\n",
    "mpg = spark.createDataFrame(data(\"mpg\"))\n",
    "mpg.show(5)"
   ]
  },
  {
   "cell_type": "markdown",
   "metadata": {},
   "source": [
    "- Create 1 column of output that contains a message like the one below:\n",
    "        The 1999 audi a4 has a 4 cylinder engine."
   ]
  },
  {
   "cell_type": "code",
   "execution_count": 8,
   "metadata": {},
   "outputs": [
    {
     "name": "stdout",
     "output_type": "stream",
     "text": [
      "+-------------------------------------------------------------+\n",
      "|Discription                                                  |\n",
      "+-------------------------------------------------------------+\n",
      "|The 1999 audi a4 has a 4 cylinder engine                     |\n",
      "|The 1999 audi a4 has a 4 cylinder engine                     |\n",
      "|The 2008 audi a4 has a 4 cylinder engine                     |\n",
      "|The 2008 audi a4 has a 4 cylinder engine                     |\n",
      "|The 1999 audi a4 has a 6 cylinder engine                     |\n",
      "|The 1999 audi a4 has a 6 cylinder engine                     |\n",
      "|The 2008 audi a4 has a 6 cylinder engine                     |\n",
      "|The 1999 audi a4 quattro has a 4 cylinder engine             |\n",
      "|The 1999 audi a4 quattro has a 4 cylinder engine             |\n",
      "|The 2008 audi a4 quattro has a 4 cylinder engine             |\n",
      "|The 2008 audi a4 quattro has a 4 cylinder engine             |\n",
      "|The 1999 audi a4 quattro has a 6 cylinder engine             |\n",
      "|The 1999 audi a4 quattro has a 6 cylinder engine             |\n",
      "|The 2008 audi a4 quattro has a 6 cylinder engine             |\n",
      "|The 2008 audi a4 quattro has a 6 cylinder engine             |\n",
      "|The 1999 audi a6 quattro has a 6 cylinder engine             |\n",
      "|The 2008 audi a6 quattro has a 6 cylinder engine             |\n",
      "|The 2008 audi a6 quattro has a 8 cylinder engine             |\n",
      "|The 2008 chevrolet c1500 suburban 2wd has a 8 cylinder engine|\n",
      "|The 2008 chevrolet c1500 suburban 2wd has a 8 cylinder engine|\n",
      "|The 2008 chevrolet c1500 suburban 2wd has a 8 cylinder engine|\n",
      "|The 1999 chevrolet c1500 suburban 2wd has a 8 cylinder engine|\n",
      "|The 2008 chevrolet c1500 suburban 2wd has a 8 cylinder engine|\n",
      "|The 1999 chevrolet corvette has a 8 cylinder engine          |\n",
      "|The 1999 chevrolet corvette has a 8 cylinder engine          |\n",
      "|The 2008 chevrolet corvette has a 8 cylinder engine          |\n",
      "|The 2008 chevrolet corvette has a 8 cylinder engine          |\n",
      "|The 2008 chevrolet corvette has a 8 cylinder engine          |\n",
      "|The 2008 chevrolet k1500 tahoe 4wd has a 8 cylinder engine   |\n",
      "|The 2008 chevrolet k1500 tahoe 4wd has a 8 cylinder engine   |\n",
      "+-------------------------------------------------------------+\n",
      "only showing top 30 rows\n",
      "\n"
     ]
    }
   ],
   "source": [
    "mpg.select(concat(lit('The '), mpg.year, lit(' '), mpg['manufacturer'], lit(' '), mpg.model, lit(' has a '), mpg.cyl, lit(\" cylinder\"), lit(' engine')).alias(\"Discription\")).show(30, False)"
   ]
  },
  {
   "cell_type": "markdown",
   "metadata": {},
   "source": [
    "- For each vehicle:\n",
    "    - Transform the trans column so that it only contains either manual or auto."
   ]
  },
  {
   "cell_type": "code",
   "execution_count": 9,
   "metadata": {},
   "outputs": [
    {
     "name": "stdout",
     "output_type": "stream",
     "text": [
      "+------------+-----+-----+----+---+------+---+---+---+---+-------+\n",
      "|manufacturer|model|displ|year|cyl| trans|drv|cty|hwy| fl|  class|\n",
      "+------------+-----+-----+----+---+------+---+---+---+---+-------+\n",
      "|        audi|   a4|  1.8|1999|  4|  auto|  f| 18| 29|  p|compact|\n",
      "|        audi|   a4|  1.8|1999|  4|manual|  f| 21| 29|  p|compact|\n",
      "|        audi|   a4|  2.0|2008|  4|manual|  f| 20| 31|  p|compact|\n",
      "|        audi|   a4|  2.0|2008|  4|  auto|  f| 21| 30|  p|compact|\n",
      "|        audi|   a4|  2.8|1999|  6|  auto|  f| 16| 26|  p|compact|\n",
      "+------------+-----+-----+----+---+------+---+---+---+---+-------+\n",
      "only showing top 5 rows\n",
      "\n"
     ]
    }
   ],
   "source": [
    "mpg = mpg.withColumn(\"trans\", when(mpg.trans.startswith(\"a\"), \"auto\").otherwise(\"manual\")).show(5)"
   ]
  },
  {
   "cell_type": "markdown",
   "metadata": {},
   "source": [
    "Load the tips dataset as a spark dataframe."
   ]
  },
  {
   "cell_type": "code",
   "execution_count": 10,
   "metadata": {},
   "outputs": [
    {
     "name": "stdout",
     "output_type": "stream",
     "text": [
      "+----------+----+------+------+---+------+----+\n",
      "|total_bill| tip|   sex|smoker|day|  time|size|\n",
      "+----------+----+------+------+---+------+----+\n",
      "|     16.99|1.01|Female|    No|Sun|Dinner|   2|\n",
      "|     10.34|1.66|  Male|    No|Sun|Dinner|   3|\n",
      "|     21.01| 3.5|  Male|    No|Sun|Dinner|   3|\n",
      "|     23.68|3.31|  Male|    No|Sun|Dinner|   2|\n",
      "|     24.59|3.61|Female|    No|Sun|Dinner|   4|\n",
      "+----------+----+------+------+---+------+----+\n",
      "only showing top 5 rows\n",
      "\n"
     ]
    }
   ],
   "source": [
    "tips = spark.createDataFrame(data(\"tips\"))\n",
    "tips.show(5)"
   ]
  },
  {
   "cell_type": "markdown",
   "metadata": {},
   "source": [
    "- What percentage of observations are smokers?"
   ]
  },
  {
   "cell_type": "code",
   "execution_count": 11,
   "metadata": {},
   "outputs": [
    {
     "name": "stdout",
     "output_type": "stream",
     "text": [
      "+------+-------------+\n",
      "|smoker|count(smoker)|\n",
      "+------+-------------+\n",
      "|    No|          151|\n",
      "|   Yes|           93|\n",
      "+------+-------------+\n",
      "\n",
      "+------+-------------------------------+\n",
      "|smoker|round((count(smoker) / 244), 2)|\n",
      "+------+-------------------------------+\n",
      "|    No|                           0.62|\n",
      "|   Yes|                           0.38|\n",
      "+------+-------------------------------+\n",
      "\n"
     ]
    }
   ],
   "source": [
    "tips.groupby(tips.smoker).agg(count(tips.smoker)).show()\n",
    "\n",
    "\n",
    "tips.groupBy('smoker').agg(round(count(tips.smoker)/ tips.count(),2)).show()"
   ]
  },
  {
   "cell_type": "markdown",
   "metadata": {},
   "source": [
    "- Create a column that contains the tip percentage"
   ]
  },
  {
   "cell_type": "code",
   "execution_count": 13,
   "metadata": {},
   "outputs": [
    {
     "name": "stdout",
     "output_type": "stream",
     "text": [
      "+----------+----+------+------+---+------+----+--------------+\n",
      "|total_bill| tip|   sex|smoker|day|  time|size|tip_percentage|\n",
      "+----------+----+------+------+---+------+----+--------------+\n",
      "|     16.99|1.01|Female|    No|Sun|Dinner|   2|           6.0|\n",
      "|     10.34|1.66|  Male|    No|Sun|Dinner|   3|          16.0|\n",
      "|     21.01| 3.5|  Male|    No|Sun|Dinner|   3|          17.0|\n",
      "|     23.68|3.31|  Male|    No|Sun|Dinner|   2|          14.0|\n",
      "|     24.59|3.61|Female|    No|Sun|Dinner|   4|          15.0|\n",
      "|     25.29|4.71|  Male|    No|Sun|Dinner|   4|          19.0|\n",
      "|      8.77| 2.0|  Male|    No|Sun|Dinner|   2|          23.0|\n",
      "|     26.88|3.12|  Male|    No|Sun|Dinner|   4|          12.0|\n",
      "|     15.04|1.96|  Male|    No|Sun|Dinner|   2|          13.0|\n",
      "|     14.78|3.23|  Male|    No|Sun|Dinner|   2|          22.0|\n",
      "|     10.27|1.71|  Male|    No|Sun|Dinner|   2|          17.0|\n",
      "|     35.26| 5.0|Female|    No|Sun|Dinner|   4|          14.0|\n",
      "|     15.42|1.57|  Male|    No|Sun|Dinner|   2|          10.0|\n",
      "|     18.43| 3.0|  Male|    No|Sun|Dinner|   4|          16.0|\n",
      "|     14.83|3.02|Female|    No|Sun|Dinner|   2|          20.0|\n",
      "|     21.58|3.92|  Male|    No|Sun|Dinner|   2|          18.0|\n",
      "|     10.33|1.67|Female|    No|Sun|Dinner|   3|          16.0|\n",
      "|     16.29|3.71|  Male|    No|Sun|Dinner|   3|          23.0|\n",
      "|     16.97| 3.5|Female|    No|Sun|Dinner|   3|          21.0|\n",
      "|     20.65|3.35|  Male|    No|Sat|Dinner|   3|          16.0|\n",
      "+----------+----+------+------+---+------+----+--------------+\n",
      "only showing top 20 rows\n",
      "\n"
     ]
    }
   ],
   "source": [
    "tips = tips.withColumn('tip_percentage', expr('Round((tip/total_bill) * 100)'))\n",
    "tips.show()"
   ]
  },
  {
   "cell_type": "markdown",
   "metadata": {},
   "source": [
    "- Calculate the average tip percentage for each combination of sex and smoker."
   ]
  },
  {
   "cell_type": "code",
   "execution_count": 14,
   "metadata": {},
   "outputs": [
    {
     "name": "stdout",
     "output_type": "stream",
     "text": [
      "+------+------+-----------------------------------------+\n",
      "|smoker|   sex|round(avg(((tip / total_bill) * 100)), 2)|\n",
      "+------+------+-----------------------------------------+\n",
      "|    No|Female|                                    15.69|\n",
      "|    No|  Male|                                    16.07|\n",
      "|   Yes|  Male|                                    15.28|\n",
      "|   Yes|Female|                                    18.22|\n",
      "+------+------+-----------------------------------------+\n",
      "\n"
     ]
    }
   ],
   "source": [
    "tips.groupBy(tips.smoker, tips.sex).agg(round(avg(tips.tip/tips.total_bill * 100), 2)).show()"
   ]
  },
  {
   "cell_type": "markdown",
   "metadata": {},
   "source": [
    "Use the seattle weather dataset referenced in the lesson to answer the questions below."
   ]
  },
  {
   "cell_type": "code",
   "execution_count": 15,
   "metadata": {},
   "outputs": [
    {
     "name": "stdout",
     "output_type": "stream",
     "text": [
      "+----------+-------------+--------+--------+----+-------+\n",
      "|      date|precipitation|temp_max|temp_min|wind|weather|\n",
      "+----------+-------------+--------+--------+----+-------+\n",
      "|2012-01-01|          0.0|    12.8|     5.0| 4.7|drizzle|\n",
      "|2012-01-02|         10.9|    10.6|     2.8| 4.5|   rain|\n",
      "|2012-01-03|          0.8|    11.7|     7.2| 2.3|   rain|\n",
      "|2012-01-04|         20.3|    12.2|     5.6| 4.7|   rain|\n",
      "|2012-01-05|          1.3|     8.9|     2.8| 6.1|   rain|\n",
      "+----------+-------------+--------+--------+----+-------+\n",
      "only showing top 5 rows\n",
      "\n"
     ]
    }
   ],
   "source": [
    "from vega_datasets import data\n",
    "weather = data.seattle_weather().assign(date=lambda df: df.date.astype(str))\n",
    "weather = spark.createDataFrame(weather)\n",
    "weather.show(5)"
   ]
  },
  {
   "cell_type": "markdown",
   "metadata": {},
   "source": [
    "- Convert the temperatures to farenheight."
   ]
  },
  {
   "cell_type": "code",
   "execution_count": 16,
   "metadata": {},
   "outputs": [
    {
     "name": "stdout",
     "output_type": "stream",
     "text": [
      "+----------+-------------+--------+--------+----+-------+----------+\n",
      "|      date|precipitation|temp_max|temp_min|wind|weather|f_temp_max|\n",
      "+----------+-------------+--------+--------+----+-------+----------+\n",
      "|2012-01-01|          0.0|    12.8|     5.0| 4.7|drizzle|      55.0|\n",
      "|2012-01-02|         10.9|    10.6|     2.8| 4.5|   rain|      51.1|\n",
      "|2012-01-03|          0.8|    11.7|     7.2| 2.3|   rain|      53.1|\n",
      "|2012-01-04|         20.3|    12.2|     5.6| 4.7|   rain|      54.0|\n",
      "|2012-01-05|          1.3|     8.9|     2.8| 6.1|   rain|      48.0|\n",
      "|2012-01-06|          2.5|     4.4|     2.2| 2.2|   rain|      39.9|\n",
      "|2012-01-07|          0.0|     7.2|     2.8| 2.3|   rain|      45.0|\n",
      "|2012-01-08|          0.0|    10.0|     2.8| 2.0|    sun|      50.0|\n",
      "|2012-01-09|          4.3|     9.4|     5.0| 3.4|   rain|      48.9|\n",
      "|2012-01-10|          1.0|     6.1|     0.6| 3.4|   rain|      43.0|\n",
      "|2012-01-11|          0.0|     6.1|    -1.1| 5.1|    sun|      43.0|\n",
      "|2012-01-12|          0.0|     6.1|    -1.7| 1.9|    sun|      43.0|\n",
      "|2012-01-13|          0.0|     5.0|    -2.8| 1.3|    sun|      41.0|\n",
      "|2012-01-14|          4.1|     4.4|     0.6| 5.3|   snow|      39.9|\n",
      "|2012-01-15|          5.3|     1.1|    -3.3| 3.2|   snow|      34.0|\n",
      "|2012-01-16|          2.5|     1.7|    -2.8| 5.0|   snow|      35.1|\n",
      "|2012-01-17|          8.1|     3.3|     0.0| 5.6|   snow|      37.9|\n",
      "|2012-01-18|         19.8|     0.0|    -2.8| 5.0|   snow|      32.0|\n",
      "|2012-01-19|         15.2|    -1.1|    -2.8| 1.6|   snow|      30.0|\n",
      "|2012-01-20|         13.5|     7.2|    -1.1| 2.3|   snow|      45.0|\n",
      "+----------+-------------+--------+--------+----+-------+----------+\n",
      "only showing top 20 rows\n",
      "\n"
     ]
    }
   ],
   "source": [
    "weather = weather.withColumn(\"f_temp_max\", round(weather.temp_max*9/5 + 32, 1))\n",
    "weater = weather.withColumn(\"f_temp_min\", round(weather.temp_min*9/5 + 32, 1))\n",
    "weather.show()"
   ]
  },
  {
   "cell_type": "markdown",
   "metadata": {},
   "source": [
    "- Which month has the most rain, on average?"
   ]
  },
  {
   "cell_type": "code",
   "execution_count": 17,
   "metadata": {},
   "outputs": [
    {
     "name": "stdout",
     "output_type": "stream",
     "text": [
      "+-----+------------------+\n",
      "|month|    total_rainfall|\n",
      "+-----+------------------+\n",
      "|    1|465.99999999999994|\n",
      "|    2|             422.0|\n",
      "|    3|             606.2|\n",
      "|    4|             375.4|\n",
      "|    5|             207.5|\n",
      "|    6|             132.9|\n",
      "|    7|              48.2|\n",
      "|    8|             163.7|\n",
      "|    9|235.49999999999997|\n",
      "|   10|             503.4|\n",
      "|   11|             642.5|\n",
      "|   12|             622.7|\n",
      "+-----+------------------+\n",
      "\n"
     ]
    }
   ],
   "source": [
    "(\n",
    "    weather.withColumn(\"month\", month(\"date\"))\n",
    "    .groupBy(\"month\")\n",
    "    .agg(sum(\"precipitation\").alias(\"total_rainfall\"))\n",
    "    .sort(\"month\")\n",
    "    .show()\n",
    ")"
   ]
  },
  {
   "cell_type": "markdown",
   "metadata": {},
   "source": [
    "- Which year was the windiest?"
   ]
  },
  {
   "cell_type": "code",
   "execution_count": 26,
   "metadata": {},
   "outputs": [
    {
     "name": "stdout",
     "output_type": "stream",
     "text": [
      "+----+-----------------+\n",
      "|year|    windiest_year|\n",
      "+----+-----------------+\n",
      "|2012|3.400819672131147|\n",
      "+----+-----------------+\n",
      "only showing top 1 row\n",
      "\n"
     ]
    }
   ],
   "source": [
    "\n",
    "(\n",
    "    weather.withColumn(\"year\", year(\"date\"))\n",
    "    .groupBy(\"year\")\n",
    "    .agg(avg(\"wind\").alias(\"windiest_year\"))\n",
    "    .sort(\"windiest_year\", ascending=False)\n",
    ").show(1)"
   ]
  },
  {
   "cell_type": "markdown",
   "metadata": {},
   "source": [
    "- What is the most frequent type of weather in January?"
   ]
  },
  {
   "cell_type": "code",
   "execution_count": 19,
   "metadata": {},
   "outputs": [
    {
     "name": "stdout",
     "output_type": "stream",
     "text": [
      "+-------+--------------+\n",
      "|weather|count(weather)|\n",
      "+-------+--------------+\n",
      "|    fog|            38|\n",
      "|drizzle|            10|\n",
      "|   rain|            35|\n",
      "|    sun|            33|\n",
      "|   snow|             8|\n",
      "+-------+--------------+\n",
      "\n"
     ]
    }
   ],
   "source": [
    "(\n",
    "    weather.filter(month(\"date\") == 1)\n",
    "    .groupBy(\"weather\")\n",
    "    .agg(count(\"weather\"))\n",
    "    .show()\n",
    ")"
   ]
  },
  {
   "cell_type": "markdown",
   "metadata": {},
   "source": [
    "- What is the average high and low temperature on sunny days in July in 2013 and 2014?\n"
   ]
  },
  {
   "cell_type": "code",
   "execution_count": 20,
   "metadata": {},
   "outputs": [
    {
     "name": "stdout",
     "output_type": "stream",
     "text": [
      "+----------+-------------+--------+--------+----+-------+----------+-------+\n",
      "|      date|precipitation|temp_max|temp_min|wind|weather|f_temp_max|quarter|\n",
      "+----------+-------------+--------+--------+----+-------+----------+-------+\n",
      "|2015-07-24|          0.3|    22.8|    13.3| 3.8|    fog|      73.0|      3|\n",
      "|2015-07-26|          2.0|    22.2|    13.9| 2.6|    fog|      72.0|      3|\n",
      "|2015-08-12|          7.6|    28.3|    16.7| 2.7|   rain|      82.9|      3|\n",
      "|2015-08-14|         30.5|    18.3|    15.0| 5.2|   rain|      64.9|      3|\n",
      "|2015-08-20|          2.0|    22.8|    14.4| 4.2|    fog|      73.0|      3|\n",
      "|2015-08-28|          0.5|    23.3|    15.6| 2.6|    fog|      73.9|      3|\n",
      "|2015-08-29|         32.5|    22.2|    13.3| 5.8|    fog|      72.0|      3|\n",
      "|2015-08-30|         10.2|    20.0|    12.8| 4.7|    fog|      68.0|      3|\n",
      "|2015-09-01|          5.8|    19.4|    13.9| 5.0|    fog|      66.9|      3|\n",
      "|2015-09-05|          0.3|    20.6|     8.9| 3.5|    sun|      69.1|      3|\n",
      "|2015-09-06|          5.3|    16.1|    11.7| 2.4|    fog|      61.0|      3|\n",
      "|2015-09-07|          0.3|    21.1|    13.3| 1.5|    fog|      70.0|      3|\n",
      "|2015-09-13|          0.5|    20.6|    12.8| 3.0|    fog|      69.1|      3|\n",
      "|2015-09-16|          1.0|    20.0|    10.0| 1.9|    sun|      68.0|      3|\n",
      "|2015-09-17|          1.8|    18.3|    12.8| 3.8|    fog|      64.9|      3|\n",
      "|2015-09-20|          4.1|    22.8|    12.2| 6.8|    fog|      73.0|      3|\n",
      "|2015-09-25|          2.0|    15.6|    12.8| 2.6|    fog|      60.1|      3|\n",
      "+----------+-------------+--------+--------+----+-------+----------+-------+\n",
      "\n"
     ]
    }
   ],
   "source": [
    "df= (\n",
    "    weather.filter(year(\"date\") == 2015)\n",
    "    .filter(weather.precipitation > 0)\n",
    "    .withColumn('quarter', quarter('date'))\n",
    "    .where(\"quarter ==3\")\n",
    ")\n",
    "df.show()"
   ]
  },
  {
   "cell_type": "markdown",
   "metadata": {},
   "source": [
    "- What percentage of days were rainy in q3 of 2015?"
   ]
  },
  {
   "cell_type": "code",
   "execution_count": 21,
   "metadata": {},
   "outputs": [
    {
     "name": "stdout",
     "output_type": "stream",
     "text": [
      "+--------------------+\n",
      "|           avg(rain)|\n",
      "+--------------------+\n",
      "|0.021739130434782608|\n",
      "+--------------------+\n",
      "\n"
     ]
    }
   ],
   "source": [
    "(weather.withColumn(\"quarter\", quarter(\"date\"))).filter(quarter('date') == '3').filter(year('date') == 2015)\\\n",
    ".select(when(col('weather') == 'rain', 1)\\\n",
    "    .otherwise(0).alias('rain')).agg(mean('rain')).show()"
   ]
  },
  {
   "cell_type": "markdown",
   "metadata": {},
   "source": [
    "- For each year, find what percentage of days it rained (had non-zero precipitation)."
   ]
  },
  {
   "cell_type": "code",
   "execution_count": 30,
   "metadata": {},
   "outputs": [
    {
     "name": "stdout",
     "output_type": "stream",
     "text": [
      "+----+-----------------+\n",
      "|year|(avg(rain) * 100)|\n",
      "+----+-----------------+\n",
      "|2015|39.45205479452055|\n",
      "|2013|41.64383561643836|\n",
      "|2014| 41.0958904109589|\n",
      "|2012|48.36065573770492|\n",
      "+----+-----------------+\n",
      "\n"
     ]
    }
   ],
   "source": [
    "(weather.withColumn('year', year('date'))).select('year',when(col('precipitation') > 0, 1)\\\n",
    "    .otherwise(0).alias('rain')).groupBy('year')\\\n",
    "        .agg(mean('rain')*100).show()"
   ]
  },
  {
   "cell_type": "code",
   "execution_count": null,
   "metadata": {},
   "outputs": [],
   "source": []
  }
 ],
 "metadata": {
  "kernelspec": {
   "display_name": "Python 3",
   "language": "python",
   "name": "python3"
  },
  "language_info": {
   "codemirror_mode": {
    "name": "ipython",
    "version": 3
   },
   "file_extension": ".py",
   "mimetype": "text/x-python",
   "name": "python",
   "nbconvert_exporter": "python",
   "pygments_lexer": "ipython3",
   "version": "3.7.6"
  }
 },
 "nbformat": 4,
 "nbformat_minor": 4
}
