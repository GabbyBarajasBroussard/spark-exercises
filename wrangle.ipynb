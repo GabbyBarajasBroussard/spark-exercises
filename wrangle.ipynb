{
 "cells": [
  {
   "cell_type": "code",
   "execution_count": 1,
   "metadata": {},
   "outputs": [],
   "source": [
    "import pyspark\n",
    "from pyspark.sql import SparkSession\n",
    "from pyspark.sql.functions import *\n",
    "\n",
    "spark = SparkSession.builder.getOrCreate()"
   ]
  },
  {
   "cell_type": "markdown",
   "metadata": {},
   "source": [
    "Data Acquisition\n",
    "- These exercises should go in a notebook or script named wrangle. Add, commit, and push your changes.\n",
    "\n",
    "- This exercises uses the case.csv, dept.csv, and source.csv files from the san antonio 311 call dataset.\n",
    "\n",
    "- Read the case, department, and source data into their own spark dataframes."
   ]
  },
  {
   "cell_type": "code",
   "execution_count": 2,
   "metadata": {},
   "outputs": [],
   "source": [
    "# header = True (calls in headers from CSV)\n",
    "# inferSchema = True (infers datatype of columns in csv)\n",
    "case = spark.read.csv(\"case.csv\", header=True, inferSchema=True)\n",
    "dept = spark.read.csv(\"dept.csv\", header=True, inferSchema=True)\n",
    "source = spark.read.csv(\"source.csv\", header=True, inferSchema=True)"
   ]
  },
  {
   "cell_type": "markdown",
   "metadata": {},
   "source": [
    "Let's see how writing to the local disk works in spark:\n",
    "\n",
    "- Write the code necessary to store the source data in both csv and json format, store these as sources_csv and sources_json"
   ]
  },
  {
   "cell_type": "code",
   "execution_count": 5,
   "metadata": {},
   "outputs": [],
   "source": [
    "#convert to .csv files\n",
    "source.write.csv(\"sources_csv\", mode=\"overwrite\")\n",
    "dept.write.csv(\"depts_csv\", mode=\"overwrite\")\n",
    "case.write.csv(\"cases_csv\", mode=\"overwrite\")\n",
    "#convert to .json files\n",
    "source.write.json(\"sources_json\", mode=\"overwrite\")\n",
    "dept.write.json(\"depts_json\", mode=\"overwrite\")\n",
    "case.write.json(\"cases_json\", mode=\"overwrite\")"
   ]
  },
  {
   "cell_type": "markdown",
   "metadata": {},
   "source": [
    "- Inspect your folder structure. What do you notice?"
   ]
  },
  {
   "cell_type": "markdown",
   "metadata": {},
   "source": [
    "Inside the folder the csv and json are stored as folders "
   ]
  },
  {
   "cell_type": "markdown",
   "metadata": {},
   "source": [
    "- Inspect the data in your dataframes. Are the data types appropriate? Write the code necessary to cast the values to the appropriate types."
   ]
  },
  {
   "cell_type": "code",
   "execution_count": 6,
   "metadata": {},
   "outputs": [
    {
     "name": "stdout",
     "output_type": "stream",
     "text": [
      "root\n",
      " |-- source_id: string (nullable = true)\n",
      " |-- source_username: string (nullable = true)\n",
      "\n"
     ]
    }
   ],
   "source": [
    "source.printSchema()"
   ]
  },
  {
   "cell_type": "code",
   "execution_count": 7,
   "metadata": {},
   "outputs": [
    {
     "name": "stdout",
     "output_type": "stream",
     "text": [
      "root\n",
      " |-- dept_division: string (nullable = true)\n",
      " |-- dept_name: string (nullable = true)\n",
      " |-- standardized_dept_name: string (nullable = true)\n",
      " |-- dept_subject_to_SLA: string (nullable = true)\n",
      "\n"
     ]
    }
   ],
   "source": [
    "dept.printSchema()"
   ]
  },
  {
   "cell_type": "code",
   "execution_count": 8,
   "metadata": {},
   "outputs": [
    {
     "name": "stdout",
     "output_type": "stream",
     "text": [
      "root\n",
      " |-- case_id: integer (nullable = true)\n",
      " |-- case_opened_date: string (nullable = true)\n",
      " |-- case_closed_date: string (nullable = true)\n",
      " |-- SLA_due_date: string (nullable = true)\n",
      " |-- case_late: string (nullable = true)\n",
      " |-- num_days_late: double (nullable = true)\n",
      " |-- case_closed: string (nullable = true)\n",
      " |-- dept_division: string (nullable = true)\n",
      " |-- service_request_type: string (nullable = true)\n",
      " |-- SLA_days: double (nullable = true)\n",
      " |-- case_status: string (nullable = true)\n",
      " |-- source_id: string (nullable = true)\n",
      " |-- request_address: string (nullable = true)\n",
      " |-- council_district: integer (nullable = true)\n",
      "\n"
     ]
    }
   ],
   "source": [
    "case.printSchema()"
   ]
  },
  {
   "cell_type": "code",
   "execution_count": 15,
   "metadata": {},
   "outputs": [],
   "source": [
    "# rename to match other columns\n",
    "case = case.withColumnRenamed(\"SLA_due_date\", \"case_due_date\")\n",
    "\n",
    "# change case_closed and case_late to boolean values\n",
    "case = case.withColumn(\"case_closed\", expr('case_closed == \"YES\"')).withColumn(\n",
    "    \"case_late\", expr('case_late == \"YES\"')\n",
    ")\n",
    "\n",
    "# change city council district to string not int (categorical)\n",
    "case = case.withColumn(\"council_district\", col(\"council_district\").cast(\"string\"))\n",
    "# add 00 before number\n",
    "case = case.withColumn(\"council_district\", col(\"council_district\").cast(\"int\"))\n",
    "\n",
    "case = case.withColumn(\n",
    "    \"council_district\",\n",
    "    format_string(\"%03d\", col(\"council_district\").cast(\"int\")),\n",
    ")\n",
    "\n",
    "# Now we will handle the 3 columns that have dates in them. We'll use spark's to_timestamp function for this.\n",
    "fmt = \"M/d/yy H:mm\"\n",
    "case = (\n",
    "    case.withColumn(\"case_opened_date\", to_timestamp(\"case_opened_date\", fmt))\n",
    "    .withColumn(\"case_closed_date\", to_timestamp(\"case_closed_date\", fmt))\n",
    "    .withColumn(\"case_due_date\", to_timestamp(\"case_due_date\", fmt))\n",
    ")\n",
    "\n",
    "# standardize address column, trim, removes whitespace, lowercase\n",
    "case = case.withColumn(\"request_address\", trim(lower(case.request_address)))\n",
    "\n",
    "# convert number of days late to weeks\n",
    "case = case.withColumn(\n",
    "    \"num_weeks_late\", expr(\"num_days_late / 7 AS num_weeks_late\")\n",
    ")\n",
    "\n",
    "# new features (zipcode)\n",
    "case = case.withColumn(\"zipcode\", regexp_extract(\"request_address\", r\"\\d+$\", 0))\n",
    "\n",
    "\n",
    "case = (\n",
    "    case.withColumn(\n",
    "        \"case_age\", datediff(current_timestamp(), \"case_opened_date\")\n",
    "    )\n",
    "    .withColumn(\n",
    "        \"days_to_closed\", datediff(\"case_closed_date\", \"case_opened_date\")\n",
    "    )\n",
    "    .withColumn(\n",
    "        \"case_lifetime\",\n",
    "        when(expr(\"! case_closed\"), col(\"case_age\")).otherwise(\n",
    "            col(\"days_to_closed\")\n",
    "        ),\n",
    "    )\n",
    ")"
   ]
  },
  {
   "cell_type": "code",
   "execution_count": 16,
   "metadata": {},
   "outputs": [],
   "source": [
    "#Join data frames\n",
    "\n",
    "df = (\n",
    "    case\n",
    "    # left join on dept_division\n",
    "    .join(dept, \"dept_division\", \"left\")\n",
    "    # drop all the columns except for standardized name, as it has much fewer unique values\n",
    "    .drop(dept.dept_division)\n",
    "    .drop(dept.dept_name)\n",
    "    .drop(case.dept_division)\n",
    "    .withColumnRenamed(\"standardized_dept_name\", \"department\")\n",
    "    # convert to a boolean\n",
    "    .withColumn(\"dept_subject_to_SLA\", col(\"dept_subject_to_SLA\") == \"YES\")\n",
    ")"
   ]
  },
  {
   "cell_type": "code",
   "execution_count": 17,
   "metadata": {},
   "outputs": [
    {
     "name": "stdout",
     "output_type": "stream",
     "text": [
      "-RECORD 0------------------------------------\n",
      " case_id              | 1014127332           \n",
      " case_opened_date     | 2018-01-01 00:42:00  \n",
      " case_closed_date     | 2018-01-01 12:29:00  \n",
      " case_due_date        | 2020-09-26 00:42:00  \n",
      " case_late            | false                \n",
      " num_days_late        | -998.5087616000001   \n",
      " case_closed          | true                 \n",
      " service_request_type | Stray Animal         \n",
      " SLA_days             | 999.0                \n",
      " case_status          | Closed               \n",
      " source_id            | svcCRMLS             \n",
      " request_address      | 2315  el paso st,... \n",
      " council_district     | 005                  \n",
      " num_weeks_late       | -142.6441088         \n",
      " zipcode              | 78207                \n",
      " case_age             | 1229                 \n",
      " days_to_closed       | 0                    \n",
      " case_lifetime        | 0                    \n",
      " department           | Animal Care Services \n",
      " dept_subject_to_SLA  | true                 \n",
      "only showing top 1 row\n",
      "\n"
     ]
    }
   ],
   "source": [
    "df.show(1, vertical=True)"
   ]
  },
  {
   "cell_type": "markdown",
   "metadata": {},
   "source": [
    "- How old is the latest (in terms of days past SLA) currently open issue? How long has the oldest (in terms of days since opened) currently opened issue been open?"
   ]
  },
  {
   "cell_type": "code",
   "execution_count": 19,
   "metadata": {},
   "outputs": [
    {
     "name": "stdout",
     "output_type": "stream",
     "text": [
      "+--------+-------------------+-------------------+-------------+--------+-------------+\n",
      "|SLA_days|   case_opened_date|      case_due_date|case_lifetime|case_age|num_days_late|\n",
      "+--------+-------------------+-------------------+-------------+--------+-------------+\n",
      "|    14.0|2018-08-08 10:38:00|2018-08-22 10:38:00|         1010|    1010| -13.44305556|\n",
      "+--------+-------------------+-------------------+-------------+--------+-------------+\n",
      "only showing top 1 row\n",
      "\n"
     ]
    }
   ],
   "source": [
    "# How old is the latest currently open issue\n",
    "(\n",
    "df.select('SLA_days','case_opened_date','case_due_date','case_lifetime','case_age','num_days_late')\n",
    "  .where(df.case_closed == False)\n",
    "  .sort(df.case_opened_date.desc())\n",
    "  .show(1)\n",
    ")"
   ]
  },
  {
   "cell_type": "markdown",
   "metadata": {},
   "source": [
    "- How many Stray Animal cases are there?"
   ]
  },
  {
   "cell_type": "code",
   "execution_count": 20,
   "metadata": {},
   "outputs": [
    {
     "name": "stdout",
     "output_type": "stream",
     "text": [
      "+--------------+\n",
      "|count(case_id)|\n",
      "+--------------+\n",
      "|        116915|\n",
      "+--------------+\n",
      "\n"
     ]
    }
   ],
   "source": [
    "(\n",
    "df.where(df.department == 'Animal Care Services')\n",
    "  .agg(count('case_id'))\n",
    "  .show()\n",
    ")"
   ]
  },
  {
   "cell_type": "markdown",
   "metadata": {},
   "source": [
    "- How many service requests that are assigned to the Field Operations department (dept_division) are not classified as \"Officer Standby\" request type (service_request_type)?"
   ]
  },
  {
   "cell_type": "code",
   "execution_count": 21,
   "metadata": {},
   "outputs": [
    {
     "data": {
      "text/plain": [
       "838691"
      ]
     },
     "execution_count": 21,
     "metadata": {},
     "output_type": "execute_result"
    }
   ],
   "source": [
    "(\n",
    "    df.filter(col(\"service_request_type\") != lit(\"Officer Standby\"))\n",
    "    .count()\n",
    ")"
   ]
  },
  {
   "cell_type": "markdown",
   "metadata": {},
   "source": [
    "- Convert the council_district column to a string column."
   ]
  },
  {
   "cell_type": "code",
   "execution_count": 26,
   "metadata": {},
   "outputs": [],
   "source": [
    "case = case.withColumn(\"council_district\", col(\"council_district\").cast(\"string\"))"
   ]
  },
  {
   "cell_type": "markdown",
   "metadata": {},
   "source": [
    "- Extract the year from the case_closed_date column."
   ]
  },
  {
   "cell_type": "code",
   "execution_count": 28,
   "metadata": {},
   "outputs": [
    {
     "name": "stdout",
     "output_type": "stream",
     "text": [
      "-RECORD 0------------------------------------\n",
      " case_id              | 1014127332           \n",
      " case_opened_date     | 2018-01-01 00:42:00  \n",
      " case_closed_date     | 2018-01-01 12:29:00  \n",
      " case_due_date        | 2020-09-26 00:42:00  \n",
      " case_late            | false                \n",
      " num_days_late        | -998.5087616000001   \n",
      " case_closed          | true                 \n",
      " service_request_type | Stray Animal         \n",
      " SLA_days             | 999.0                \n",
      " case_status          | Closed               \n",
      " source_id            | svcCRMLS             \n",
      " request_address      | 2315  el paso st,... \n",
      " council_district     | 005                  \n",
      " num_weeks_late       | -142.6441088         \n",
      " zipcode              | 78207                \n",
      " case_age             | 1229                 \n",
      " days_to_closed       | 0                    \n",
      " case_lifetime        | 0                    \n",
      " department           | Animal Care Services \n",
      " dept_subject_to_SLA  | true                 \n",
      " year                 | 2018                 \n",
      " year_closed          | 2018                 \n",
      "only showing top 1 row\n",
      "\n"
     ]
    }
   ],
   "source": [
    "df = df.withColumn(\"year_closed\", year(\"case_closed_date\"))\n",
    "df.show(1, vertical=True)"
   ]
  },
  {
   "cell_type": "markdown",
   "metadata": {},
   "source": [
    "Convert num_days_late from days to hours in new columns num_hours_late."
   ]
  },
  {
   "cell_type": "code",
   "execution_count": 30,
   "metadata": {},
   "outputs": [
    {
     "name": "stdout",
     "output_type": "stream",
     "text": [
      "-RECORD 0------------------------------------\n",
      " case_id              | 1014127332           \n",
      " case_opened_date     | 2018-01-01 00:42:00  \n",
      " case_closed_date     | 2018-01-01 12:29:00  \n",
      " case_due_date        | 2020-09-26 00:42:00  \n",
      " case_late            | false                \n",
      " num_days_late        | -998.5087616000001   \n",
      " case_closed          | true                 \n",
      " service_request_type | Stray Animal         \n",
      " SLA_days             | 999.0                \n",
      " case_status          | Closed               \n",
      " source_id            | svcCRMLS             \n",
      " request_address      | 2315  el paso st,... \n",
      " council_district     | 005                  \n",
      " num_weeks_late       | -142.6441088         \n",
      " zipcode              | 78207                \n",
      " case_age             | 1229                 \n",
      " days_to_closed       | 0                    \n",
      " case_lifetime        | 0                    \n",
      " department           | Animal Care Services \n",
      " dept_subject_to_SLA  | true                 \n",
      " year                 | 2018                 \n",
      " year_closed          | 2018                 \n",
      " num_hours_late       | -23964.2102784       \n",
      "only showing top 1 row\n",
      "\n"
     ]
    }
   ],
   "source": [
    "df = df.withColumn(\"num_hours_late\", (col(\"num_days_late\") * 24))\n",
    "df.show(1, vertical=True)"
   ]
  },
  {
   "cell_type": "markdown",
   "metadata": {},
   "source": [
    "Join the case data with the source and department data."
   ]
  },
  {
   "cell_type": "code",
   "execution_count": 31,
   "metadata": {},
   "outputs": [],
   "source": [
    "#Join data frames\n",
    "\n",
    "df = (\n",
    "    case\n",
    "    # left join on dept_division\n",
    "    .join(dept, \"dept_division\", \"left\")\n",
    "    # drop all the columns except for standardized name, as it has much fewer unique values\n",
    "    .drop(dept.dept_division)\n",
    "    .drop(dept.dept_name)\n",
    "    .drop(case.dept_division)\n",
    "    .withColumnRenamed(\"standardized_dept_name\", \"department\")\n",
    "    # convert to a boolean\n",
    "    .withColumn(\"dept_subject_to_SLA\", col(\"dept_subject_to_SLA\") == \"YES\")\n",
    ")"
   ]
  },
  {
   "cell_type": "markdown",
   "metadata": {},
   "source": [
    "Are there any cases that do not have a request source?"
   ]
  },
  {
   "cell_type": "code",
   "execution_count": 32,
   "metadata": {},
   "outputs": [
    {
     "name": "stdout",
     "output_type": "stream",
     "text": [
      "+------------+\n",
      "|sum(is_null)|\n",
      "+------------+\n",
      "|           0|\n",
      "+------------+\n",
      "\n"
     ]
    }
   ],
   "source": [
    "(\n",
    "    df.select(df.source_id.isNull().cast('int').alias('is_null'))\n",
    "    .agg(sum('is_null'))\n",
    "    .show()\n",
    ")"
   ]
  },
  {
   "cell_type": "markdown",
   "metadata": {},
   "source": [
    "What are the top 10 service request types in terms of number of requests?"
   ]
  },
  {
   "cell_type": "code",
   "execution_count": 33,
   "metadata": {},
   "outputs": [
    {
     "name": "stdout",
     "output_type": "stream",
     "text": [
      "+--------------------------------+-----+\n",
      "|service_request_type            |count|\n",
      "+--------------------------------+-----+\n",
      "|No Pickup                       |86855|\n",
      "|Overgrown Yard/Trash            |65895|\n",
      "|Bandit Signs                    |32910|\n",
      "|Damaged Cart                    |30338|\n",
      "|Front Or Side Yard Parking      |28794|\n",
      "|Stray Animal                    |26760|\n",
      "|Aggressive Animal(Non-Critical) |24882|\n",
      "|Cart Exchange Request           |22024|\n",
      "|Junk Vehicle On Private Property|21473|\n",
      "|Pot Hole Repair                 |20616|\n",
      "+--------------------------------+-----+\n",
      "only showing top 10 rows\n",
      "\n"
     ]
    }
   ],
   "source": [
    "(\n",
    "    df.groupby('service_request_type')\n",
    "    .count()\n",
    "    .sort(col('count').desc())\n",
    "    .show(10, truncate=False)\n",
    ")"
   ]
  },
  {
   "cell_type": "markdown",
   "metadata": {},
   "source": [
    "What are the top 10 service request types in terms of average days late?"
   ]
  },
  {
   "cell_type": "code",
   "execution_count": 39,
   "metadata": {},
   "outputs": [
    {
     "name": "stdout",
     "output_type": "stream",
     "text": [
      "+--------------------------------------+------------------+---------------+\n",
      "|service_request_type                  |#_days_late       |number_of_cases|\n",
      "+--------------------------------------+------------------+---------------+\n",
      "|Zoning: Recycle Yard                  |210.89201994318182|132            |\n",
      "|Zoning: Junk Yards                    |200.20517608494276|262            |\n",
      "|Structure/Housing Maintenance         |190.20707698509804|51             |\n",
      "|Donation Container Enforcement        |171.09115313942618|122            |\n",
      "|Storage of Used Mattress              |163.96812829714287|7              |\n",
      "|Labeling for Used Mattress            |162.43032902285717|7              |\n",
      "|Record Keeping of Used Mattresses     |153.99724039428568|7              |\n",
      "|Signage Requied for Sale of Used Mattr|151.63868055333333|12             |\n",
      "|Traffic Signal Graffiti               |137.64583330000002|2              |\n",
      "|License Requied Used Mattress Sales   |128.79828704142858|7              |\n",
      "+--------------------------------------+------------------+---------------+\n",
      "only showing top 10 rows\n",
      "\n"
     ]
    }
   ],
   "source": [
    "(\n",
    "    df.where('case_late') # just the rows where case_late == true\n",
    "    .groupBy('service_request_type')\n",
    "    .agg(mean('num_days_late').alias('#_days_late'), count('*').alias('number_of_cases'))\n",
    "    .sort(desc('#_days_late'))\n",
    "    .show(10, truncate=False)\n",
    ")"
   ]
  },
  {
   "cell_type": "markdown",
   "metadata": {},
   "source": [
    "Does number of days late depend on department?"
   ]
  },
  {
   "cell_type": "code",
   "execution_count": 40,
   "metadata": {},
   "outputs": [
    {
     "name": "stdout",
     "output_type": "stream",
     "text": [
      "+------------------------+---------+------------+\n",
      "|department              |days_late|n_cases_late|\n",
      "+------------------------+---------+------------+\n",
      "|Metro Health            |6.5      |829         |\n",
      "|Solid Waste             |7.2      |32945       |\n",
      "|Trans & Cap Improvements|10.6     |5411        |\n",
      "|Parks & Recreation      |22.3     |3797        |\n",
      "|Animal Care Services    |23.5     |23276       |\n",
      "|DSD/Code Enforcement    |49.4     |26235       |\n",
      "|Customer Service        |87.7     |2010        |\n",
      "+------------------------+---------+------------+\n",
      "\n"
     ]
    }
   ],
   "source": [
    "(\n",
    "    df.filter('case_late')\n",
    "    .groupby('department')\n",
    "    .agg(mean('num_days_late').alias('days_late'), count('num_days_late').alias('n_cases_late'))\n",
    "    .sort('days_late')\n",
    "    .withColumn('days_late', round(col('days_late'), 1))\n",
    "    .show(truncate=False)\n",
    ")"
   ]
  },
  {
   "cell_type": "markdown",
   "metadata": {},
   "source": [
    "How do number of days late depend on department and request type?"
   ]
  },
  {
   "cell_type": "code",
   "execution_count": 41,
   "metadata": {},
   "outputs": [
    {
     "name": "stdout",
     "output_type": "stream",
     "text": [
      "+--------------------+--------------------------------------------+---------+-------+\n",
      "|department          |service_request_type                        |days_late|n_cases|\n",
      "+--------------------+--------------------------------------------+---------+-------+\n",
      "|DSD/Code Enforcement|Zoning: Recycle Yard                        |273.6    |75     |\n",
      "|DSD/Code Enforcement|Zoning: Junk Yards                          |251.9    |146    |\n",
      "|DSD/Code Enforcement|Donation Container Enforcement              |201.7    |82     |\n",
      "|DSD/Code Enforcement|Structure/Housing Maintenance               |182.4    |30     |\n",
      "|DSD/Code Enforcement|Graffiti: Private Property (Corridors)      |175.1    |3      |\n",
      "|DSD/Code Enforcement|Storage of Used Mattress                    |164.0    |7      |\n",
      "|DSD/Code Enforcement|Labeling for Used Mattress                  |162.4    |7      |\n",
      "|DSD/Code Enforcement|Record Keeping of Used Mattresses           |154.0    |7      |\n",
      "|DSD/Code Enforcement|Signage Requied for Sale of Used Mattr      |151.6    |12     |\n",
      "|DSD/Code Enforcement|License Requied Used Mattress Sales         |128.8    |7      |\n",
      "|DSD/Code Enforcement|Vendors                                     |127.6    |101    |\n",
      "|DSD/Code Enforcement|Curbstoning                                 |123.0    |99     |\n",
      "|DSD/Code Enforcement|DSDB Ordered/Hold Harmless/Regular-ALL      |119.8    |40     |\n",
      "|DSD/Code Enforcement|CPS Energy Wood Poles                       |115.2    |1      |\n",
      "|DSD/Code Enforcement|Used Mattress Inspection                    |108.1    |16     |\n",
      "|DSD/Code Enforcement|DSDB Ordered/Hold Harmless/Regular: Main    |106.4    |86     |\n",
      "|DSD/Code Enforcement|DSDB Ordered/Hold Harmless/Regular: ASEC    |104.7    |41     |\n",
      "|DSD/Code Enforcement|Zoning: Mobile Homes                        |103.8    |5      |\n",
      "|DSD/Code Enforcement|Certificates of Occupancy                   |103.3    |91     |\n",
      "|DSD/Code Enforcement|Zoning: Setbacks                            |98.4     |80     |\n",
      "|DSD/Code Enforcement|Wasting Water (Leaks)                       |91.3     |4      |\n",
      "|DSD/Code Enforcement|Street Light New Development                |91.1     |16     |\n",
      "|DSD/Code Enforcement|Zoning: District Requirement                |89.3     |241    |\n",
      "|DSD/Code Enforcement|Permits Building                            |84.7     |1385   |\n",
      "|DSD/Code Enforcement|Vacant Lot: Over 12\"\"                       |82.1     |1      |\n",
      "|Customer Service    |Complaint                                   |80.5     |922    |\n",
      "|DSD/Code Enforcement|Low Hanging Limbs on Streets/Sidewalk       |78.6     |19     |\n",
      "|Parks & Recreation  |Major Park Improvement Install              |75.8     |17     |\n",
      "|DSD/Code Enforcement|Zoning: Outside Storage                     |74.2     |16     |\n",
      "|DSD/Code Enforcement|Dart Preliminary Inspection                 |74.0     |8      |\n",
      "|DSD/Code Enforcement|Dumpsters: Maintenance/Sanitation           |73.2     |38     |\n",
      "|DSD/Code Enforcement|Used/Scrap Tire Facility Periodic Inspection|72.9     |8      |\n",
      "|Animal Care Services|Animal Permits Request                      |72.2     |1188   |\n",
      "|DSD/Code Enforcement|\"Vacant Lot-State (12\"\")\"                   |72.1     |2      |\n",
      "|DSD/Code Enforcement|No Address Posted                           |72.0     |754    |\n",
      "|Animal Care Services|Public Nuisance(Own Animal)                 |71.4     |962    |\n",
      "|DSD/Code Enforcement|Zoning Business in Resident Area            |70.9     |87     |\n",
      "|DSD/Code Enforcement|Water No Services                           |69.5     |11     |\n",
      "|DSD/Code Enforcement|Discharge Into Pub. Waters/St               |69.3     |1      |\n",
      "|DSD/Code Enforcement|Zoning: Multi-Family In Single              |67.8     |42     |\n",
      "+--------------------+--------------------------------------------+---------+-------+\n",
      "only showing top 40 rows\n",
      "\n"
     ]
    }
   ],
   "source": [
    "(\n",
    "    df.filter(\"case_closed\")\n",
    "    .filter(\"case_late\")\n",
    "    .groupby(\"department\", \"service_request_type\")\n",
    "    .agg(avg(\"num_days_late\").alias(\"days_late\"), count(\"*\").alias(\"n_cases\"))\n",
    "    .withColumn(\"days_late\", round(col(\"days_late\"), 1))\n",
    "    .sort(desc(\"days_late\"))\n",
    "    .show(40, truncate=False)\n",
    ")"
   ]
  }
 ],
 "metadata": {
  "kernelspec": {
   "display_name": "Python 3",
   "language": "python",
   "name": "python3"
  },
  "language_info": {
   "codemirror_mode": {
    "name": "ipython",
    "version": 3
   },
   "file_extension": ".py",
   "mimetype": "text/x-python",
   "name": "python",
   "nbconvert_exporter": "python",
   "pygments_lexer": "ipython3",
   "version": "3.7.6"
  }
 },
 "nbformat": 4,
 "nbformat_minor": 4
}
